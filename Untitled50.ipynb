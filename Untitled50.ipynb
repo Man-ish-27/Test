{
 "cells": [
  {
   "cell_type": "code",
   "execution_count": 15,
   "id": "baa6e112",
   "metadata": {},
   "outputs": [
    {
     "name": "stdout",
     "output_type": "stream",
     "text": [
      "Enter number5 19 8 1\n",
      "3\n",
      "16.5\n",
      "33\n"
     ]
    }
   ],
   "source": [
    "#You are given an array nums of positive integers. In one operation,you can choose any  number from nums and reduce it to \n",
    "#exactly half the number. (Note that you may choose this reduced number in future operations.) Return the minimum number of \n",
    "#operations to reduce the sum of nums by at least half.\n",
    "#Input: nums = [5,19,8,1]\n",
    "#Output: 3\n",
    "\n",
    "L=list(map(int, input(\"Enter number\").split()))\n",
    "s=sum(L)\n",
    "L=sorted(L)\n",
    "l1=L[::-1]\n",
    "M=[]\n",
    "sum1=0\n",
    "count=0\n",
    "M.append(L[0])\n",
    "for i in range(0,len(L)):\n",
    "    sum1+=l1[i]/2\n",
    "    if sum1>=s/2:\n",
    "        break\n",
    "    count+=1    \n",
    "print(count)\n",
    "print(sum1)\n",
    "print(s)    \n",
    "    "
   ]
  },
  {
   "cell_type": "code",
   "execution_count": 13,
   "id": "b8a517ff",
   "metadata": {},
   "outputs": [
    {
     "name": "stdout",
     "output_type": "stream",
     "text": [
      "Enter number20 18 16 12 14\n",
      "4\n",
      "40.0\n",
      "80\n"
     ]
    }
   ],
   "source": [
    "\n",
    "    \n",
    "    "
   ]
  },
  {
   "cell_type": "code",
   "execution_count": null,
   "id": "927c9253",
   "metadata": {},
   "outputs": [],
   "source": []
  },
  {
   "cell_type": "code",
   "execution_count": null,
   "id": "7f9cacee",
   "metadata": {},
   "outputs": [],
   "source": []
  }
 ],
 "metadata": {
  "kernelspec": {
   "display_name": "Python 3 (ipykernel)",
   "language": "python",
   "name": "python3"
  },
  "language_info": {
   "codemirror_mode": {
    "name": "ipython",
    "version": 3
   },
   "file_extension": ".py",
   "mimetype": "text/x-python",
   "name": "python",
   "nbconvert_exporter": "python",
   "pygments_lexer": "ipython3",
   "version": "3.10.9"
  }
 },
 "nbformat": 4,
 "nbformat_minor": 5
}
